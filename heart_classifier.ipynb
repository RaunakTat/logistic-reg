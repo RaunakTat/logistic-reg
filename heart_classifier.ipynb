{
  "nbformat": 4,
  "nbformat_minor": 0,
  "metadata": {
    "colab": {
      "name": "heart-classifier.ipynb",
      "provenance": [],
      "authorship_tag": "ABX9TyNx6d/j91aUnTJ9NPLB48Wx",
      "include_colab_link": true
    },
    "kernelspec": {
      "name": "python3",
      "display_name": "Python 3"
    },
    "language_info": {
      "name": "python"
    }
  },
  "cells": [
    {
      "cell_type": "markdown",
      "metadata": {
        "id": "view-in-github",
        "colab_type": "text"
      },
      "source": [
        "<a href=\"https://colab.research.google.com/github/RaunakTat/logistic-reg/blob/main/heart_classifier.ipynb\" target=\"_parent\"><img src=\"https://colab.research.google.com/assets/colab-badge.svg\" alt=\"Open In Colab\"/></a>"
      ]
    },
    {
      "cell_type": "code",
      "execution_count": 2,
      "metadata": {
        "colab": {
          "base_uri": "https://localhost:8080/"
        },
        "id": "XWlyvzeg4ALY",
        "outputId": "67b7f0db-7230-4ffe-bdfe-59d4b4450eb9"
      },
      "outputs": [
        {
          "output_type": "stream",
          "name": "stdout",
          "text": [
            "<class 'pandas.core.frame.DataFrame'>\n",
            "RangeIndex: 303 entries, 0 to 302\n",
            "Data columns (total 14 columns):\n",
            " #   Column    Non-Null Count  Dtype  \n",
            "---  ------    --------------  -----  \n",
            " 0   age       303 non-null    int64  \n",
            " 1   sex       303 non-null    int64  \n",
            " 2   cp        303 non-null    int64  \n",
            " 3   trestbps  303 non-null    int64  \n",
            " 4   chol      303 non-null    int64  \n",
            " 5   fbs       303 non-null    int64  \n",
            " 6   restecg   303 non-null    int64  \n",
            " 7   thalach   303 non-null    int64  \n",
            " 8   exang     303 non-null    int64  \n",
            " 9   oldpeak   303 non-null    float64\n",
            " 10  slope     303 non-null    int64  \n",
            " 11  ca        303 non-null    int64  \n",
            " 12  thal      303 non-null    int64  \n",
            " 13  target    303 non-null    int64  \n",
            "dtypes: float64(1), int64(13)\n",
            "memory usage: 33.3 KB\n",
            "[0 1 1 0 0 1 0 0 0 0 1 1 0 1 1 1 0 1 0 1 1 0 0 0 1 0 0 1 1 1 1 0 1 1 1 0 0\n",
            " 1 0 0 1 1 1 0 1 1 1 1 0 1 1 0 1 1 1 0 1 1 1 1 1 1 1 1 0 1 1 0 1 1 1 1 1 0\n",
            " 0 1]\n",
            "Accuracy 85.52631578947368\n",
            "Predicted value from the user entered data is [1]\n"
          ]
        }
      ],
      "source": [
        "#This model predicts the chance of a heart attack using machine learning.\n",
        "#1 indicates greater posibility, whereas 0 indicates negligible posibility.\n",
        "\n",
        "import pandas as pd\n",
        "dataframe = pd.read_csv('/content/heart.csv')\n",
        "dataframe.info()\n",
        "\n",
        "#dividing data into input(x) and outpur(y)\n",
        "x = dataframe.iloc[:,2:13].values\n",
        "y = dataframe.iloc[:,13].values\n",
        "\n",
        "#spliting both input and output data into two sets for training and testing\n",
        "from sklearn.model_selection import train_test_split\n",
        "x_train,x_test,y_train,y_test = train_test_split(x,y,random_state = 0)\n",
        "\n",
        "\n",
        "#scaling the input data due to huge difference in values in different columns\n",
        "from sklearn.preprocessing import MinMaxScaler\n",
        "scaler = MinMaxScaler()\n",
        "x_train = scaler.fit_transform(x_train)\n",
        "x_test = scaler.fit_transform(x_test)\n",
        "\n",
        "#applying the classifier alogorithm\n",
        "from sklearn.linear_model import LogisticRegression\n",
        "model = LogisticRegression()\n",
        "\n",
        "#fitting the model\n",
        "model.fit(x_train,y_train)\n",
        "\n",
        "#predictor variable\n",
        "y_pred = model.predict(x_test)\n",
        "print(y_pred)  #predicted output values\n",
        "\n",
        "#checking the accuracy of the model\n",
        "from sklearn.metrics import accuracy_score\n",
        "print('Accuracy',accuracy_score(y_pred,y_test)*100)\n",
        "\n",
        "#predicting for user-entered individual data\n",
        "x_user = scaler.fit_transform([[1,130,236,0,1,150,0,2.3,0,0,3]])\n",
        "print('Predicted value from the user entered data is',model.predict(x_user))\n"
      ]
    },
    {
      "cell_type": "code",
      "source": [
        ""
      ],
      "metadata": {
        "id": "etSzxFO84ug0"
      },
      "execution_count": null,
      "outputs": []
    }
  ]
}